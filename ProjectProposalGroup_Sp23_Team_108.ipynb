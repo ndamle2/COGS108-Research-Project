{
 "cells": [
  {
   "cell_type": "markdown",
   "metadata": {},
   "source": [
    "# COGS 108 - Final Project Proposal"
   ]
  },
  {
   "cell_type": "markdown",
   "metadata": {},
   "source": [
    "# Names\n",
    "\n",
    "- Neil Damle\n",
    "- Pavit Saluja\n",
    "- Ahladita Lotti\n",
    "- David Cook\n",
    "- Daniel Finn"
   ]
  },
  {
   "cell_type": "markdown",
   "metadata": {},
   "source": [
    "# Research Question"
   ]
  },
  {
   "cell_type": "markdown",
   "metadata": {},
   "source": [
    "**What are the factors (weather, time, location, car type, etc.) that affect the severity and frequency of traffic accidents in the US? Based on these factors, can we predict the severity of car accidents?**\n"
   ]
  },
  {
   "cell_type": "markdown",
   "metadata": {},
   "source": [
    "## Background and Prior Work"
   ]
  },
  {
   "cell_type": "markdown",
   "metadata": {},
   "source": [
    "\n",
    "Car crashes are a major cause of injury and death around the world, and a variety of factors can contribute to the frequency of their occurrence and severity such as driver behavior, substance abuse, vehicle design and maintenance, road conditions, weather, and environmental factors. Driver behavior includes actions such as distracted driving, speeding, reckless driving, and driving under the influence of drugs or alcohol [^Shiner]. Vehicle design and maintenance play a critical role, as poorly designed or maintained vehicles can be more prone to accidents [^Shiner]. Road conditions, such as potholes or uneven surfaces, can also be a factor in car crashes. Weather conditions, such as rain, snow, or fog, can also make driving more hazardous [^Shiner]. Finally, environmental factors such as wildlife or debris on the road can contribute to car crashes. \n",
    "\n",
    "As young drivers, we wanted to looking into traffic data to help us identify patterns and trends in accidents, such as common causes, locations, and times of day. Regularly tracking and analyzing car crash data can help monitor progress in reducing the number and severity of accidents over time. According to a recent study, measuring the impact of weather conditions on the severity of car crashes could lead to developing strategies and policies aimed at reducing property damage and injuries sustained by people on the road [^Azar]. Car crash data can also help insurance companies to assess risk.\n",
    "\n",
    "The severity of car accidents based on these factors varies widely, but we would assume that, for example, a higher blood alcohol level and/or worse weather would increase both the likelihood and the severity of an accident, if one were to occur in such conditions. After doing our initial research, we have found that drunk driving and speeding were two of the principal causes of car accidents in the United States. Intoxicated drivers accounted for about 35% of all fatal motor vehicle accidents, and the majority of these accidents occurred at night as opposed to during the day [^Forbes]. Speeding is a close second in regards to the fact that it is responsible for about 29% of car crashes [^Forbes]. In regards to the time that most car accidents occur, there is an increased likelihood of car accidents during the weekend days and holidays, and a large portion of fatal accidents occur between 6 pm and midnight [^Forbes].\n",
    "\n",
    "Citations -\n",
    "\n",
    "[^Shiner]: Shiner Law Group. (6 Oct 2022). 8 factors that contribute to car crashes. Retrieved from https://shinerlawgroup.com/8-factors-that-contribute-to-car-crashes/\n",
    "\n",
    "[^Azar]: Azar, N. R., Lee, A., Wilson, A., & Cunningham, R. M. (2020). Distracted driving: A primer for emergency physicians. Western Journal of Emergency Medicine, 21(3), 690–696. doi: 10.5811/westjem.2020.3.46872\n",
    "\n",
    "[ ^Forbes]: Bieber, Christy (23 Jan 2023) Car Accident Statistics for 2023. Forbes Advisor."
   ]
  },
  {
   "cell_type": "markdown",
   "metadata": {},
   "source": [
    "# Hypothesis\n"
   ]
  },
  {
   "cell_type": "markdown",
   "metadata": {},
   "source": [
    "\n",
    "**We predict that the key factors that influence accident severity are substance abuse and vehicle type, and the factors that will influence accident frequency are weather and time. More specifically, we think that because of smaller cars have less protection, and drivers who are under the influence may drive more erratically, these factors would have more serious accidents. On the other hand, we predicted that there might be more accidents at night or during bad weather, even if they may be less severe (skidding off the road, but no crash, for example).**"
   ]
  },
  {
   "cell_type": "markdown",
   "metadata": {},
   "source": [
    "# Data"
   ]
  },
  {
   "cell_type": "markdown",
   "metadata": {},
   "source": [
    "1. The **ideal** data set would be a large compilation of car accident reports taken over a long period of time, ideally we would want a large number of observations so that we would have a significant basis for our conclusions. For our variables, we would need variables that match the issues we would like to measure; therefore, we would need data on the severity of the crashes, time, location, driver intoxication, and street data so that we could compare many different variables. We would also want data on the make, model, and year of the car so we can compare safety features. Ideally, some governmental body would collect this data from collision reports so that we would have a large amount of data that we could reasonably expect to be accurate. This data would also ideally be organized by car crashes and have each variable for each crash.\n",
    "\n",
    "2. The **best, current** piece of data we have found is a series from Montgomery county in Maryland, which has data on roughly 40 variables some of which include: road conditions, driver intoxication, location and date and time information. This data is for over 100,000 car collisions. It is collected directly from preliminary crash reports so we believe that it is a reliable and consistent source. This data is also collected weekly which adds to its currency. We have also found data on San Diego car collisions, but it lacks many of the features that the Montgomery data has. One of the downsides for these datasets is that their data is localized to specific regions, which means we would have to reduce the scope of our research question to account for that.\n",
    "\n",
    "Montgomery County URL: https://data.montgomerycountymd.gov/Public-Safety/Crash-Reporting-Drivers-Data/mmzv-x632\n",
    "\n",
    "San Diego URL: https://data.sandiego.gov/datasets/police-collisions/"
   ]
  },
  {
   "cell_type": "markdown",
   "metadata": {},
   "source": [
    "# Ethics & Privacy"
   ]
  },
  {
   "cell_type": "markdown",
   "metadata": {},
   "source": [
    "Our project will be focused on car accidents in the United States (or a more specific area), and while this may not have any glaring ethical issues in terms of data, we do still need to be mindful of inherent biases and other faults with the topic and data itself. Given that we will be working with data about injuries and car accidents, there may be some health related data that we must handle and account for - luckily, none of our proposed datasets contain any identifying information about anyone involved in the accident. \n",
    "\n",
    "There are some potential biases in the datasets. For example, some of them rely on manually created police reports, which could reflect the biases of the reporters as well as have errors in handling the data. As a more specific example, the Montgomery County dataset warns that information hadn’t yet been verified by a full investigation, and could be subject to change. In this case, we may be working with data that doesn’t fully reflect the actual information about the crash and we will be mindful of that when drawing conclusions from the data.\n",
    "\n",
    "Another issue we recognized with the datasets is the potential for bias through underreported data. Many people won’t file reports for smaller crashes, so even though our data may claim to contain “all accidents” - it might overrepresent more severe crashes. In general, we don’t think that this will play a role in our analyses if we focus on severe crashes specifically or take these differences into account some other way. However, we will be mindful of the fact that when assessing the frequency of different crash severities, the actual distribution may actually have more non-severe accidents.\n",
    "\n",
    "Overall, we believe that we will be able to explore this data in a fair and equitable manner, in a way that protects the people and populations involved. While the datasets we have found are not perfect, we hope that by identifying the biases of the data, we will be able to carry out our analyses in a way that accounts for its shortcomings.\n",
    "\n"
   ]
  },
  {
   "cell_type": "markdown",
   "metadata": {},
   "source": [
    "# Team Expectations "
   ]
  },
  {
   "cell_type": "markdown",
   "metadata": {},
   "source": [
    "\n",
    "Read over the [COGS108 Team Policies](https://github.com/COGS108/Projects/blob/master/COGS108_TeamPolicies.md) individually. Then, include your group’s expectations of one another for successful completion of your COGS108 project below. Discuss and agree on what all of your expectations are. Discuss how your team will communicate throughout the quarter and consider how you will communicate respectfully should conflicts arise. By including each member’s name above and by adding their name to the submission, you are indicating that you have read the COGS108 Team Policies, accept your team’s expectations below, and have every intention to fulfill them. These expectations are for your team’s use and benefit — they won’t be graded for their details.\n",
    "\n",
    "* We will submit everything on time\n",
    "* We will communicate should issues arise with completing our respective tasks\n",
    "* Should conficts arise, we will hold a group meeting to find a solution."
   ]
  },
  {
   "cell_type": "markdown",
   "metadata": {},
   "source": [
    "# Project Timeline Proposal"
   ]
  },
  {
   "cell_type": "markdown",
   "metadata": {},
   "source": [
    "\n",
    "\n",
    "| Meeting Date  | Meeting Time| Completed Before Meeting  | Discuss at Meeting |\n",
    "|---|---|---|---|\n",
    "| 5/2  |  5 PM | Explore different potential topics  | Determine best form of communication; Discuss and decide on final project topic; discuss hypothesis; begin background research | \n",
    " |5/3  |  11 AM | Start Brainstorming Research Question  | Assign tasks for Project Proposal, finalize research question and project timeline |\n",
    " |5/6  |  11 AM | Background Research/Dataset Finalization  | Project breakdown, task assignment, check-in points |\n",
    " |5/13  |  11 AM | Import and Prep Data  | Data cleaning, prepare for data checkpoint |\n",
    "| 5/17  |  11:59 PM |  Data Checkpoint Due - Complete data gathering and cleaning | Submit Data Checkpoint | \n",
    "|5/20  |  11 AM | Begin prep, research for analysis  | Data analysis, data visualizations |\n",
    "|5/27  |  11 AM | Finalize data analysis | Prepare for EDA checkpoint |\n",
    "|6/3  |  11 AM | Drafts for results, discussion, conclusion  | discuss edits to be made, sections to add |\n",
    "|6/10  |  11 AM | Last minute edits | Finishing touches for submission! |\n"
   ]
  },
  {
   "cell_type": "code",
   "execution_count": null,
   "metadata": {},
   "outputs": [],
   "source": []
  }
 ],
 "metadata": {
  "kernelspec": {
   "display_name": "Python 3 (ipykernel)",
   "language": "python",
   "name": "python3"
  },
  "language_info": {
   "codemirror_mode": {
    "name": "ipython",
    "version": 3
   },
   "file_extension": ".py",
   "mimetype": "text/x-python",
   "name": "python",
   "nbconvert_exporter": "python",
   "pygments_lexer": "ipython3",
   "version": "3.9.5"
  }
 },
 "nbformat": 4,
 "nbformat_minor": 2
}
